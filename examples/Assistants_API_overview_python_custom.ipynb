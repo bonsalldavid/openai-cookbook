{
 "cells": [
  {
   "cell_type": "code",
   "execution_count": 1,
   "metadata": {},
   "outputs": [
    {
     "name": "stdout",
     "output_type": "stream",
     "text": [
      "Requirement already satisfied: openai in /usr/local/python/3.10.8/lib/python3.10/site-packages (1.2.3)\n",
      "Requirement already satisfied: anyio<4,>=3.5.0 in /usr/local/python/3.10.8/lib/python3.10/site-packages (from openai) (3.7.1)\n",
      "Requirement already satisfied: distro<2,>=1.7.0 in /usr/local/python/3.10.8/lib/python3.10/site-packages (from openai) (1.8.0)\n",
      "Requirement already satisfied: httpx<1,>=0.23.0 in /usr/local/python/3.10.8/lib/python3.10/site-packages (from openai) (0.25.1)\n",
      "Requirement already satisfied: pydantic<3,>=1.9.0 in /usr/local/python/3.10.8/lib/python3.10/site-packages (from openai) (2.4.2)\n",
      "Requirement already satisfied: tqdm>4 in /usr/local/python/3.10.8/lib/python3.10/site-packages (from openai) (4.66.1)\n",
      "Requirement already satisfied: typing-extensions<5,>=4.5 in /home/codespace/.local/lib/python3.10/site-packages (from openai) (4.8.0)\n",
      "Requirement already satisfied: idna>=2.8 in /home/codespace/.local/lib/python3.10/site-packages (from anyio<4,>=3.5.0->openai) (3.4)\n",
      "Requirement already satisfied: sniffio>=1.1 in /home/codespace/.local/lib/python3.10/site-packages (from anyio<4,>=3.5.0->openai) (1.3.0)\n",
      "Requirement already satisfied: exceptiongroup in /home/codespace/.local/lib/python3.10/site-packages (from anyio<4,>=3.5.0->openai) (1.1.3)\n",
      "Requirement already satisfied: certifi in /home/codespace/.local/lib/python3.10/site-packages (from httpx<1,>=0.23.0->openai) (2023.7.22)\n",
      "Requirement already satisfied: httpcore in /usr/local/python/3.10.8/lib/python3.10/site-packages (from httpx<1,>=0.23.0->openai) (1.0.2)\n",
      "Requirement already satisfied: annotated-types>=0.4.0 in /usr/local/python/3.10.8/lib/python3.10/site-packages (from pydantic<3,>=1.9.0->openai) (0.6.0)\n",
      "Requirement already satisfied: pydantic-core==2.10.1 in /usr/local/python/3.10.8/lib/python3.10/site-packages (from pydantic<3,>=1.9.0->openai) (2.10.1)\n",
      "Requirement already satisfied: h11<0.15,>=0.13 in /usr/local/python/3.10.8/lib/python3.10/site-packages (from httpcore->httpx<1,>=0.23.0->openai) (0.14.0)\n",
      "\n",
      "\u001b[1m[\u001b[0m\u001b[34;49mnotice\u001b[0m\u001b[1;39;49m]\u001b[0m\u001b[39;49m A new release of pip is available: \u001b[0m\u001b[31;49m23.3\u001b[0m\u001b[39;49m -> \u001b[0m\u001b[32;49m23.3.1\u001b[0m\n",
      "\u001b[1m[\u001b[0m\u001b[34;49mnotice\u001b[0m\u001b[1;39;49m]\u001b[0m\u001b[39;49m To update, run: \u001b[0m\u001b[32;49mpython -m pip install --upgrade pip\u001b[0m\n"
     ]
    }
   ],
   "source": [
    "!pip install --upgrade openai"
   ]
  },
  {
   "cell_type": "code",
   "execution_count": 2,
   "metadata": {},
   "outputs": [
    {
     "name": "stdout",
     "output_type": "stream",
     "text": [
      "Version: 1.2.3\n"
     ]
    }
   ],
   "source": []
  },
  {
   "cell_type": "code",
   "execution_count": 3,
   "metadata": {},
   "outputs": [
    {
     "name": "stdout",
     "output_type": "stream",
     "text": [
      "Requirement already satisfied: python-dotenv in /usr/local/python/3.10.8/lib/python3.10/site-packages (1.0.0)\n",
      "\n",
      "\u001b[1m[\u001b[0m\u001b[34;49mnotice\u001b[0m\u001b[1;39;49m]\u001b[0m\u001b[39;49m A new release of pip is available: \u001b[0m\u001b[31;49m23.3\u001b[0m\u001b[39;49m -> \u001b[0m\u001b[32;49m23.3.1\u001b[0m\n",
      "\u001b[1m[\u001b[0m\u001b[34;49mnotice\u001b[0m\u001b[1;39;49m]\u001b[0m\u001b[39;49m To update, run: \u001b[0m\u001b[32;49mpython -m pip install --upgrade pip\u001b[0m\n"
     ]
    },
    {
     "data": {
      "text/plain": [
       "True"
      ]
     },
     "execution_count": 3,
     "metadata": {},
     "output_type": "execute_result"
    }
   ],
   "source": [
    "\n"
   ]
  },
  {
   "cell_type": "code",
   "execution_count": 31,
   "metadata": {},
   "outputs": [
    {
     "data": {
      "text/plain": [
       "{'id': 'asst_8kwaJ5tFyh2VtloYoLamUCIk',\n",
       " 'created_at': 1699807018,\n",
       " 'description': None,\n",
       " 'file_ids': [],\n",
       " 'instructions': 'You are a skilled data software developer. You are tasked with developing the front-end web app to a comprehensive cookbook of openai tools and techniques that will run locally. Provide working code where ever possible and clear instructions on how to load it into the repository.',\n",
       " 'metadata': {},\n",
       " 'model': 'gpt-4-1106-preview',\n",
       " 'name': 'Math Tutor',\n",
       " 'object': 'assistant',\n",
       " 'tools': []}"
      ]
     },
     "metadata": {},
     "output_type": "display_data"
    }
   ],
   "source": [
    "\n",
    "!pip show openai | grep Version\n",
    "!pip install python-dotenv\n",
    "from dotenv import load_dotenv\n",
    "import json\n",
    "\n",
    "load_dotenv()\n",
    "\n",
    "def show_json(obj):\n",
    "    display(json.loads(obj.model_dump_json()))\n",
    "\n",
    "from openai import OpenAI\n",
    "\n",
    "client = OpenAI()\n",
    "\n",
    "assistant = client.beta.assistants.create(\n",
    "    name=\"Math Tutor\",\n",
    "    instructions=\"You are a skilled data software developer. You are tasked with developing the front-end web app to a comprehensive cookbook of openai tools and techniques that will run locally. Provide working code where ever possible and clear instructions on how to load it into the repository.\",\n",
    "    model=\"gpt-4-1106-preview\",\n",
    ")\n",
    "#show_json(assistant)"
   ]
  },
  {
   "cell_type": "markdown",
   "metadata": {},
   "source": [
    "Regardless of whether you create your Assistant through the Dashboard or with the API, you'll want to keep track of the Assistant ID. This is how you'll refer to your Assistant throughout Threads and Runs.\n"
   ]
  },
  {
   "cell_type": "markdown",
   "metadata": {},
   "source": [
    "Next, we'll create a new Thread and add a message to it. This will hold the state of our conversation, so we don't have re-send the entire message history each time.\n"
   ]
  },
  {
   "cell_type": "markdown",
   "metadata": {},
   "source": [
    "### Threads\n"
   ]
  },
  {
   "cell_type": "markdown",
   "metadata": {},
   "source": [
    "Create a new thread:\n"
   ]
  },
  {
   "cell_type": "code",
   "execution_count": 32,
   "metadata": {},
   "outputs": [
    {
     "data": {
      "text/plain": [
       "{'id': 'thread_E2zqOAAbgYkFjOiThhBRz2GG',\n",
       " 'created_at': 1699807023,\n",
       " 'metadata': {},\n",
       " 'object': 'thread'}"
      ]
     },
     "metadata": {},
     "output_type": "display_data"
    }
   ],
   "source": [
    "!pip show openai | grep Version\n",
    "!pip install python-dotenv\n",
    "from dotenv import load_dotenv\n",
    "import json\n",
    "\n",
    "load_dotenv()\n",
    "\n",
    "def show_json(obj):\n",
    "    display(json.loads(obj.model_dump_json()))\n",
    "\n",
    "from openai import OpenAI\n",
    "\n",
    "client = OpenAI()\n",
    "\n",
    "assistant = client.beta.assistants.create(\n",
    "    name=\"Math Tutor\",\n",
    "    instructions=\"You are a skilled data software developer. You are tasked with developing the front-end web app to a comprehensive cookbook of openai tools and techniques that will run locally. Provide working code where ever possible and clear instructions on how to load it into the repository.\",\n",
    "    model=\"gpt-4-1106-preview\",\n",
    ")\n",
    "#show_json(assistant)\n",
    "\n",
    "thread = client.beta.threads.create()\n",
    "#show_json(thread)"
   ]
  },
  {
   "cell_type": "markdown",
   "metadata": {},
   "source": [
    "Then add the Message to the thread:\n"
   ]
  },
  {
   "cell_type": "code",
   "execution_count": 43,
   "metadata": {},
   "outputs": [
    {
     "data": {
      "text/plain": [
       "{'id': 'msg_jPm7zwVsQaKB1bljasWhxCkg',\n",
       " 'assistant_id': None,\n",
       " 'content': [{'text': {'annotations': [],\n",
       "    'value': 'I am working with a github repo entitle the openai-cookbook. I would like to create a simple html page that can be used to submit formdata and display outputs that I can importa md export into pages of the juptyper notebooks. Our objective is to explore the webapp integration of the code detailed in the jupyter notebooks. I am working wit the repo in github codespace through chrome. Suggest some code that will generate a simple form in my browser with field user_input and ai_response'},\n",
       "   'type': 'text'}],\n",
       " 'created_at': 1699809233,\n",
       " 'file_ids': [],\n",
       " 'metadata': {},\n",
       " 'object': 'thread.message',\n",
       " 'role': 'user',\n",
       " 'run_id': None,\n",
       " 'thread_id': 'thread_E2zqOAAbgYkFjOiThhBRz2GG'}"
      ]
     },
     "metadata": {},
     "output_type": "display_data"
    }
   ],
   "source": [
    "!pip show openai | grep Version\n",
    "!pip install python-dotenv\n",
    "from dotenv import load_dotenv\n",
    "import json\n",
    "\n",
    "load_dotenv()\n",
    "\n",
    "def show_json(obj):\n",
    "    display(json.loads(obj.model_dump_json()))\n",
    "\n",
    "from openai import OpenAI\n",
    "\n",
    "client = OpenAI()\n",
    "\n",
    "assistant = client.beta.assistants.create(\n",
    "    name=\"Math Tutor\",\n",
    "    instructions=\"You are a skilled data software developer. You are tasked with developing the front-end web app to a comprehensive cookbook of openai tools and techniques that will run locally. Provide working code where ever possible and clear instructions on how to load it into the repository.\",\n",
    "    model=\"gpt-4-1106-preview\",\n",
    ")\n",
    "#show_json(assistant)\n",
    "\n",
    "thread = client.beta.threads.create()\n",
    "#show_json(thread)\n",
    "\n",
    "message = client.beta.threads.messages.create(\n",
    "    thread_id=thread.id,\n",
    "    role=\"user\",\n",
    "    content=\"I am working with a github repo entitle the openai-cookbook. I would like to create a simple html page that can be used to submit formdata and display outputs that I can importa md export into pages of the juptyper notebooks. Our objective is to explore the webapp integration of the code detailed in the jupyter notebooks. I am working wit the repo in github codespace through chrome. Suggest some code that will generate a simple form in my browser with field user_input and ai_response\",\n",
    ")\n",
    "#show_json(message)"
   ]
  },
  {
   "cell_type": "markdown",
   "metadata": {},
   "source": [
    "> **Note**\n",
    "> Even though you're no longer sending the entire history each time, you will still be charged for the tokens of the entire conversation history with each Run.\n"
   ]
  },
  {
   "cell_type": "markdown",
   "metadata": {},
   "source": [
    "### Runs\n",
    "\n",
    "Notice how the Thread we created is **not** associated with the Assistant we created earlier! Threads exist independently from Assistants, which may be different from what you'd expect if you've used ChatGPT (where a thread is tied to a model/GPT).\n",
    "\n",
    "To get a completion from an Assistant for a given Thread, we must create a Run. Creating a Run will indicate to an Assistant it should look at the messages in the Thread and take action: either by adding a single response, or using tools.\n",
    "\n",
    "> **Note**\n",
    "> Runs are a key difference between the Assistants API and Chat Completions API. While in Chat Completions the model will only ever respond with a single message, in the Assistants API a Run may result in an Assistant using one or multiple tools, and potentially adding multiple messages to the Thread.\n",
    "\n",
    "To get our Assistant to respond to the user, let's create the Run. As mentioned earlier, you must specify _both_ the Assistant and the Thread.\n"
   ]
  },
  {
   "cell_type": "code",
   "execution_count": 34,
   "metadata": {},
   "outputs": [
    {
     "data": {
      "text/plain": [
       "{'id': 'run_TkKvxAzoZM47YcJ2ApsEG45U',\n",
       " 'assistant_id': 'asst_8kwaJ5tFyh2VtloYoLamUCIk',\n",
       " 'cancelled_at': None,\n",
       " 'completed_at': None,\n",
       " 'created_at': 1699807322,\n",
       " 'expires_at': 1699807922,\n",
       " 'failed_at': None,\n",
       " 'file_ids': [],\n",
       " 'instructions': 'You are a skilled data software developer. You are tasked with developing the front-end web app to a comprehensive cookbook of openai tools and techniques that will run locally. Provide working code where ever possible and clear instructions on how to load it into the repository.',\n",
       " 'last_error': None,\n",
       " 'metadata': {},\n",
       " 'model': 'gpt-4-1106-preview',\n",
       " 'object': 'thread.run',\n",
       " 'required_action': None,\n",
       " 'started_at': None,\n",
       " 'status': 'queued',\n",
       " 'thread_id': 'thread_E2zqOAAbgYkFjOiThhBRz2GG',\n",
       " 'tools': []}"
      ]
     },
     "metadata": {},
     "output_type": "display_data"
    }
   ],
   "source": []
  },
  {
   "cell_type": "markdown",
   "metadata": {},
   "source": [
    "Unlike creating a completion in the Chat Completions API, **creating a Run is an asynchronous operation**. It will return immediately with the Run's metadata, which includes a `status` that will initially be set to `queued`. The `status` will be updated as the Assistant performs operations (like using tools and adding messages).\n",
    "\n",
    "To know when the Assistant has completed processing, we can poll the Run in a loop. (Support for streaming is coming soon!) While here we are only checking for a `queued` or `in_progress` status, in practice a Run may undergo a [variety of status changes](https://platform.openai.com/docs/api-reference/runs/object#runs/object-status) which you can choose to surface to the user. (These are called Steps, and will be covered later.)\n"
   ]
  },
  {
   "cell_type": "code",
   "execution_count": 35,
   "metadata": {},
   "outputs": [],
   "source": [
    "!pip show openai | grep Version\n",
    "!pip install python-dotenv\n",
    "from dotenv import load_dotenv\n",
    "import json\n",
    "\n",
    "load_dotenv()\n",
    "\n",
    "def show_json(obj):\n",
    "    display(json.loads(obj.model_dump_json()))\n",
    "\n",
    "from openai import OpenAI\n",
    "\n",
    "client = OpenAI()\n",
    "\n",
    "assistant = client.beta.assistants.create(\n",
    "    name=\"Math Tutor\",\n",
    "    instructions=\"You are a skilled data software developer. You are tasked with developing the front-end web app to a comprehensive cookbook of openai tools and techniques that will run locally. Provide working code where ever possible and clear instructions on how to load it into the repository.\",\n",
    "    model=\"gpt-4-1106-preview\",\n",
    ")\n",
    "#show_json(assistant)\n",
    "\n",
    "thread = client.beta.threads.create()\n",
    "#show_json(thread)\n",
    "\n",
    "message = client.beta.threads.messages.create(\n",
    "    thread_id=thread.id,\n",
    "    role=\"user\",\n",
    "    content=\"I am working with a github repo entitle the openai-cookbook. I would like to create a simple html page that can be used to submit formdata and display outputs that I can importa md export into pages of the juptyper notebooks. Our objective is to explore the webapp integration of the code detailed in the jupyter notebooks. I am working wit the repo in github codespace through chrome. Suggest some code that will generate a simple form in my browser with field user_input and ai_response\",\n",
    ")\n",
    "#show_json(message)\n",
    "\n",
    "run = client.beta.threads.runs.create(\n",
    "    thread_id=thread.id,\n",
    "    assistant_id=assistant.id,\n",
    ")\n",
    "#show_json(run)\n",
    "\n",
    "\n",
    "import time\n",
    "\n",
    "\n",
    "def wait_on_run(run, thread):\n",
    "    while run.status == \"queued\" or run.status == \"in_progress\":\n",
    "        run = client.beta.threads.runs.retrieve(\n",
    "            thread_id=thread.id,\n",
    "            run_id=run.id,\n",
    "        )\n",
    "        time.sleep(0.5)\n",
    "    return run"
   ]
  },
  {
   "cell_type": "code",
   "execution_count": 36,
   "metadata": {},
   "outputs": [
    {
     "data": {
      "text/plain": [
       "{'id': 'run_TkKvxAzoZM47YcJ2ApsEG45U',\n",
       " 'assistant_id': 'asst_8kwaJ5tFyh2VtloYoLamUCIk',\n",
       " 'cancelled_at': None,\n",
       " 'completed_at': 1699807344,\n",
       " 'created_at': 1699807322,\n",
       " 'expires_at': None,\n",
       " 'failed_at': None,\n",
       " 'file_ids': [],\n",
       " 'instructions': 'You are a skilled data software developer. You are tasked with developing the front-end web app to a comprehensive cookbook of openai tools and techniques that will run locally. Provide working code where ever possible and clear instructions on how to load it into the repository.',\n",
       " 'last_error': None,\n",
       " 'metadata': {},\n",
       " 'model': 'gpt-4-1106-preview',\n",
       " 'object': 'thread.run',\n",
       " 'required_action': None,\n",
       " 'started_at': 1699807322,\n",
       " 'status': 'completed',\n",
       " 'thread_id': 'thread_E2zqOAAbgYkFjOiThhBRz2GG',\n",
       " 'tools': []}"
      ]
     },
     "metadata": {},
     "output_type": "display_data"
    }
   ],
   "source": []
  },
  {
   "cell_type": "markdown",
   "metadata": {},
   "source": [
    "### Messages\n"
   ]
  },
  {
   "cell_type": "markdown",
   "metadata": {},
   "source": [
    "Now that the Run has completed, we can list the Messages in the Thread to see what got added by the Assistant.\n"
   ]
  },
  {
   "cell_type": "code",
   "execution_count": 42,
   "metadata": {},
   "outputs": [],
   "source": [
    "!pip show openai | grep Version\n",
    "!pip install python-dotenv\n",
    "from dotenv import load_dotenv\n",
    "import json\n",
    "\n",
    "load_dotenv()\n",
    "\n",
    "def show_json(obj):\n",
    "    display(json.loads(obj.model_dump_json()))\n",
    "\n",
    "from openai import OpenAI\n",
    "\n",
    "client = OpenAI()\n",
    "\n",
    "assistant = client.beta.assistants.create(\n",
    "    name=\"Math Tutor\",\n",
    "    instructions=\"You are a skilled data software developer. You are tasked with developing the front-end web app to a comprehensive cookbook of openai tools and techniques that will run locally. Provide working code where ever possible and clear instructions on how to load it into the repository.\",\n",
    "    model=\"gpt-4-1106-preview\",\n",
    ")\n",
    "#show_json(assistant)\n",
    "\n",
    "thread = client.beta.threads.create()\n",
    "#show_json(thread)\n",
    "\n",
    "message = client.beta.threads.messages.create(\n",
    "    thread_id=thread.id,\n",
    "    role=\"user\",\n",
    "    content=\"I am working with a github repo entitle the openai-cookbook. I would like to create a simple html page that can be used to submit formdata and display outputs that I can importa md export into pages of the juptyper notebooks. Our objective is to explore the webapp integration of the code detailed in the jupyter notebooks. I am working wit the repo in github codespace through chrome. Suggest some code that will generate a simple form in my browser with field user_input and ai_response\",\n",
    ")\n",
    "#show_json(message)\n",
    "\n",
    "run = client.beta.threads.runs.create(\n",
    "    thread_id=thread.id,\n",
    "    assistant_id=assistant.id,\n",
    ")\n",
    "#show_json(run)\n",
    "\n",
    "\n",
    "import time\n",
    "\n",
    "\n",
    "def wait_on_run(run, thread):\n",
    "    while run.status == \"queued\" or run.status == \"in_progress\":\n",
    "        run = client.beta.threads.runs.retrieve(\n",
    "            thread_id=thread.id,\n",
    "            run_id=run.id,\n",
    "        )\n",
    "        time.sleep(0.5)\n",
    "    return run\n",
    "\n",
    "\n",
    "run = wait_on_run(run, thread)\n",
    "show_json(run)\n",
    "\n",
    "\n",
    "messages = client.beta.threads.messages.list(thread_id=thread.id)\n",
    "#show_json(messages)"
   ]
  },
  {
   "cell_type": "code",
   "execution_count": 38,
   "metadata": {},
   "outputs": [
    {
     "data": {
      "text/plain": [
       "{'data': [{'id': 'msg_73eIT1me9eb9EP29kB9NvIxw',\n",
       "   'assistant_id': 'asst_8kwaJ5tFyh2VtloYoLamUCIk',\n",
       "   'content': [{'text': {'annotations': [],\n",
       "      'value': \"Certainly! The example I provided is for a simple web page that allows users to input text and see a response from an AI system (e.g., an OpenAI model). It's a starting point for integrating web forms with Jupyter Notebooks containing code for AI tools and techniques.\\n\\nLet's break down the example provided:\\n\\n### HTML Part\\n\\nThe HTML document (`index.html`) structure can be divided into several parts:\\n- **`<head>` section**: Contains metadata, including the title of the page and some basic styling to make it look neat. The styles are defined within a `<style>` tag and keep the layout simple.\\n- **`<body>` section**: This is where the main content of the web page resides.\\n  - A `<div>` with a class of `container` centers the content on the page and limits its width for better readability.\\n  - Inside this div, there is an `<h1>` tag that provides a title for the page.\\n  - The `<form>` tag defines a form with an `id` of `inputForm`. It contains a `<textarea>` for users to input their text and a `<input>` of type `submit` that users click to send their input.\\n  - Below the form is another `<div>` with a class of `response` where the AI's response will be displayed.\\n\\n### JavaScript Part\\n\\nThe JavaScript section is within the `<script>` tag at the bottom of the body. It detects when the form is submitted and defines what should happen when that occurs:\\n\\n- It attaches an event listener to the form (`inputForm`) for the `submit` event. When the form is submitted, this listener prevents the default form submission behavior using `event.preventDefault();`—this prevents the page from reloading, which is the default behavior for form submissions.\\n- The JavaScript then grabs the value that the user typed into the `<textarea>` and constructs a simple AI response. In this example, it just echoes back the input text preceded by the string 'AI Response to: ', but in a real-world scenario, this is where you'd contact your backend server to get an actual AI-generated response.\\n- Finally, the script updates the content of the `ai_response_content` div with the AI's response.\\n\\n### Integration with Jupyter Notebooks\\n\\nTo make the web app work with the backend logic contained within a Jupyter Notebook, you would need to develop a backend server that exposes an API endpoint. The server would execute the code in your notebooks when it receives input data from the form via an API call.\\n\\nThe JavaScript would use AJAX (asynchronous JavaScript and XML) to send the user's input to the server without reloading the page. The server processes the input using the code from the Jupyter Notebook and sends back the response. The JavaScript updates the web page with this response.\\n\\n### Testing the Web Page Locally\\n\\nTo view and interact with this HTML page when developing locally, you can serve the HTML page over a local web server. If you have Python installed, you can easily start a simple HTTP server using the command I provided. After running the command, you can access the page by navigating to `http://localhost:8000` in your browser. The reason to use a web server, even in development, is that browsers enforce stricter security constraints on pages opened via the `file://` protocol, which might restrict the functioning of the JavaScript code.\\n\\nRemember, the code I've provided is a template and demonstrates the client side only. For it to work as intended, you'd need to create a backend server that interfaces with your Jupyter Notebook code. The backend would receive the form data, process it using the AI tools described in your notebooks, and return the result to the web app.\"},\n",
       "     'type': 'text'}],\n",
       "   'created_at': 1699808857,\n",
       "   'file_ids': [],\n",
       "   'metadata': {},\n",
       "   'object': 'thread.message',\n",
       "   'role': 'assistant',\n",
       "   'run_id': 'run_wIjjDjtUuh2r959nKXhIVquy',\n",
       "   'thread_id': 'thread_E2zqOAAbgYkFjOiThhBRz2GG'}],\n",
       " 'object': 'list',\n",
       " 'first_id': 'msg_73eIT1me9eb9EP29kB9NvIxw',\n",
       " 'last_id': 'msg_73eIT1me9eb9EP29kB9NvIxw',\n",
       " 'has_more': False}"
      ]
     },
     "metadata": {},
     "output_type": "display_data"
    }
   ],
   "source": [
    "!pip show openai | grep Version\n",
    "!pip install python-dotenv\n",
    "from dotenv import load_dotenv\n",
    "import json\n",
    "from openai import OpenAI\n",
    "\n",
    "\n",
    "load_dotenv()\n",
    "\n",
    "#Improve JSON inline display\n",
    "def show_json(obj):\n",
    "    display(json.loads(obj.model_dump_json()))\n",
    "\n",
    "#Set the client\n",
    "client = OpenAI()\n",
    "\n",
    "#Create the assistant\n",
    "assistant = client.beta.assistants.create(\n",
    "    name=\"Math Tutor\",\n",
    "    instructions=\"You are a skilled data software developer. You are tasked with developing the front-end web app to a comprehensive cookbook of openai tools and techniques that will run locally. Provide working code where ever possible and clear instructions on how to load it into the repository.\",\n",
    "    model=\"gpt-4-1106-preview\",\n",
    ")\n",
    "\n",
    "#Create a thread for the message\n",
    "thread = client.beta.threads.create()\n",
    "\n",
    "message = client.beta.threads.messages.create(\n",
    "    thread_id=thread.id,\n",
    "    role=\"user\",\n",
    "    content=\"I am working with a github repo entitle the openai-cookbook. I would like to create a simple html page that can be used to submit formdata and display outputs that I can importa md export into pages of the juptyper notebooks. Our objective is to explore the webapp integration of the code detailed in the jupyter notebooks. I am working wit the repo in github codespace through chrome. Suggest some code that will generate a simple form in my browser with field user_input and ai_response\",\n",
    ")\n",
    "\n",
    "#run it\n",
    "run = client.beta.threads.runs.create(\n",
    "    thread_id=thread.id,\n",
    "    assistant_id=assistant.id,\n",
    ")\n",
    "\n",
    "#waiting\n",
    "import time\n",
    "\n",
    "def wait_on_run(run, thread):\n",
    "    while run.status == \"queued\" or run.status == \"in_progress\":\n",
    "        run = client.beta.threads.runs.retrieve(\n",
    "            thread_id=thread.id,\n",
    "            run_id=run.id,\n",
    "        )\n",
    "        time.sleep(0.5)\n",
    "    return run\n",
    "\n",
    "run = wait_on_run(run, thread)\n",
    "#extract messages\n",
    "messages = client.beta.threads.messages.list(thread_id=thread.id)\n",
    "\n",
    "# Create another message to the same thread\n",
    "message = client.beta.threads.messages.create(\n",
    "    thread_id=thread.id, role=\"user\", content=\"Could you explain this to me?\"\n",
    ")\n",
    "\n",
    "# Execute \n",
    "run = client.beta.threads.runs.create(\n",
    "    thread_id=thread.id,\n",
    "    assistant_id=assistant.id,\n",
    ")\n",
    "\n",
    "# Wait for completion\n",
    "wait_on_run(run, thread)\n",
    "\n",
    "# Retrieve all the messages added after our last user message\n",
    "messages = client.beta.threads.messages.list(\n",
    "    thread_id=thread.id, order=\"asc\", after=message.id\n",
    ")\n"
   ]
  },
  {
   "cell_type": "code",
   "execution_count": 39,
   "metadata": {},
   "outputs": [],
   "source": [
    "!pip show openai | grep Version\n",
    "!pip install python-dotenv\n",
    "from dotenv import load_dotenv\n",
    "import json\n",
    "from openai import OpenAI\n",
    "\n",
    "\n",
    "load_dotenv()\n",
    "\n",
    "#Improve JSON inline display\n",
    "def show_json(obj):\n",
    "    display(json.loads(obj.model_dump_json()))\n",
    "\n",
    "#Set the client\n",
    "client = OpenAI()\n",
    "\n",
    "#Create the assistant\n",
    "assistant = client.beta.assistants.create(\n",
    "    name=\"Math Tutor\",\n",
    "    instructions=\"You are a skilled data software developer. You are tasked with developing the front-end web app to a comprehensive cookbook of openai tools and techniques that will run locally. Provide working code where ever possible and clear instructions on how to load it into the repository.\",\n",
    "    model=\"gpt-4-1106-preview\",\n",
    ")\n",
    "\n",
    "#Create a thread for the message\n",
    "thread = client.beta.threads.create()\n",
    "\n",
    "message = client.beta.threads.messages.create(\n",
    "    thread_id=thread.id,\n",
    "    role=\"user\",\n",
    "    content=\"I am working with a github repo entitle the openai-cookbook. I would like to create a simple html page that can be used to submit formdata and display outputs that I can importa md export into pages of the juptyper notebooks. Our objective is to explore the webapp integration of the code detailed in the jupyter notebooks. I am working wit the repo in github codespace through chrome. Suggest some code that will generate a simple form in my browser with field user_input and ai_response\",\n",
    ")\n",
    "\n",
    "#run it\n",
    "run = client.beta.threads.runs.create(\n",
    "    thread_id=thread.id,\n",
    "    assistant_id=assistant.id,\n",
    ")\n",
    "\n",
    "#waiting\n",
    "import time\n",
    "\n",
    "def wait_on_run(run, thread):\n",
    "    while run.status == \"queued\" or run.status == \"in_progress\":\n",
    "        run = client.beta.threads.runs.retrieve(\n",
    "            thread_id=thread.id,\n",
    "            run_id=run.id,\n",
    "        )\n",
    "        time.sleep(0.5)\n",
    "    return run\n",
    "\n",
    "run = wait_on_run(run, thread)\n",
    "#extract messages\n",
    "messages = client.beta.threads.messages.list(thread_id=thread.id)\n",
    "\n",
    "# Create another message to the same thread\n",
    "message = client.beta.threads.messages.create(\n",
    "    thread_id=thread.id, role=\"user\", content=\"Could you explain this to me?\"\n",
    ")\n",
    "\n",
    "# Execute \n",
    "run = client.beta.threads.runs.create(\n",
    "    thread_id=thread.id,\n",
    "    assistant_id=assistant.id,\n",
    ")\n",
    "\n",
    "# Wait for completion\n",
    "wait_on_run(run, thread)\n",
    "\n",
    "# Retrieve all the messages added after our last user message\n",
    "messages = client.beta.threads.messages.list(\n",
    "    thread_id=thread.id, order=\"asc\", after=message.id\n",
    ")\n",
    "\n",
    "\n",
    "### Package this up into a function \n",
    "\n",
    "MATH_ASSISTANT_ID = assistant.id  # or a hard-coded ID like \"asst-...\"\n",
    "\n",
    "client = OpenAI()\n",
    "\n",
    "\n",
    "def submit_message(assistant_id, thread, user_message):\n",
    "    client.beta.threads.messages.create(\n",
    "        thread_id=thread.id, role=\"user\", content=user_message\n",
    "    )\n",
    "    return client.beta.threads.runs.create(\n",
    "        thread_id=thread.id,\n",
    "        assistant_id=assistant_id,\n",
    "    )\n",
    "\n",
    "\n",
    "def get_response(thread):\n",
    "    return client.beta.threads.messages.list(thread_id=thread.id, order=\"asc\")\n",
    "\n",
    "def create_thread_and_run(user_input):\n",
    "    thread = client.beta.threads.create()\n",
    "    run = submit_message(MATH_ASSISTANT_ID, thread, user_input)\n",
    "    return thread, run\n",
    "\n",
    "\n",
    "# Emulating concurrent user requests\n",
    "thread1, run1 = create_thread_and_run(\n",
    "    \"I need to solve the equation `3x + 11 = 14`. Can you help me?\"\n",
    ")\n",
    "thread2, run2 = create_thread_and_run(\"Could you explain linear algebra to me?\")\n",
    "thread3, run3 = create_thread_and_run(\"I don't like math. What can I do?\")\n",
    "\n",
    "# Now all Runs are executing..."
   ]
  },
  {
   "cell_type": "markdown",
   "metadata": {},
   "source": [
    "I've also defined a `create_thread_and_run` function that I can re-use (which is actually almost identical to the [`client.beta.threads.create_and_run`](https://platform.openai.com/docs/api-reference/runs/createThreadAndRun) compound function in our API ;) ). Finally, we can submit our mock user requests each to a new Thread.\n",
    "\n",
    "Notice how all of these API calls are asynchronous operations; this means we actually get async behavior in our code without the use of async libraries! (e.g. `asyncio`)\n"
   ]
  },
  {
   "cell_type": "code",
   "execution_count": 44,
   "metadata": {},
   "outputs": [
    {
     "name": "stdout",
     "output_type": "stream",
     "text": [
      "Version: 1.2.3\n",
      "Requirement already satisfied: python-dotenv in /usr/local/python/3.10.8/lib/python3.10/site-packages (1.0.0)\n",
      "\n",
      "\u001b[1m[\u001b[0m\u001b[34;49mnotice\u001b[0m\u001b[1;39;49m]\u001b[0m\u001b[39;49m A new release of pip is available: \u001b[0m\u001b[31;49m23.3\u001b[0m\u001b[39;49m -> \u001b[0m\u001b[32;49m23.3.1\u001b[0m\n",
      "\u001b[1m[\u001b[0m\u001b[34;49mnotice\u001b[0m\u001b[1;39;49m]\u001b[0m\u001b[39;49m To update, run: \u001b[0m\u001b[32;49mpython -m pip install --upgrade pip\u001b[0m\n",
      "# Messages\n",
      "user: I need to solve the equation `3x + 11 = 14`. Can you help me?\n",
      "assistant: Certainly! The equation `3x + 11 = 14` can be solved for `x` by performing a series of algebraic steps to isolate `x` on one side of the equation.\n",
      "\n",
      "Here's the step-by-step solution:\n",
      "\n",
      "1. Subtract 11 from both sides of the equation to get the term with `x` by itself on one side:\n",
      "   \n",
      "   `3x + 11 - 11 = 14 - 11`\n",
      "\n",
      "   Simplified, this becomes:\n",
      "\n",
      "   `3x = 3`\n",
      "\n",
      "2. Now, divide both sides of the equation by 3 to solve for `x`:\n",
      "\n",
      "   `3x / 3 = 3 / 3`\n",
      "\n",
      "   Simplified, this is:\n",
      "\n",
      "   `x = 1`\n",
      "\n",
      "So the solution to the equation `3x + 11 = 14` is `x = 1`.\n",
      "\n",
      "# Messages\n",
      "user: Could you explain linear algebra to me?\n",
      "assistant: Certainly! Linear algebra is a branch of mathematics that deals with linear equations, linear functions, and their representations through matrices and vector spaces. It's a foundational subject in various fields, including engineering, physics, computer science, and economics, as it provides a way to handle systems of linear equations and perform transformations in multidimensional spaces.\n",
      "\n",
      "Here are some of the key concepts in linear algebra:\n",
      "\n",
      "1. **Scalars**: These are just regular numbers from the underlying field, typically real or complex numbers. In linear algebra, scalars are used to multiply vectors and matrices.\n",
      "\n",
      "2. **Vectors**: A vector is an ordered list of numbers (or functions) that you can think of as a point in space. The numbers are called the components of the vector. Vectors can represent physical quantities with both magnitude and direction, such as force or velocity.\n",
      "\n",
      "3. **Matrices**: A matrix is a rectangular array of numbers, symbols, or expressions, arranged in rows and columns. Matrices can represent linear transformations - operations that input a vector and output another vector. They're also used to represent systems of linear equations.\n",
      "\n",
      "4. **Vector Spaces**: A vector space (or linear space) is a collection of vectors that can be added together and multiplied by scalars while satisfying particular rules (axioms). Examples include the set of all \\(n\\)-dimensional real vectors, which forms an \\(n\\)-dimensional vector space.\n",
      "\n",
      "5. **Linear Transformation**: This is a function between two vector spaces that preserves the operations of vector addition and scalar multiplication.\n",
      "\n",
      "6. **Systems of Linear Equations**: These are collections of one or more linear equations involving the same set of variables. Solving a linear system means finding all values of the variables that satisfy all the equations simultaneously.\n",
      "\n",
      "7. **Determinant**: The determinant is a scalar value that can be computed from the elements of a square matrix. It provides important information about the matrix, such as whether it is invertible and the volume scaling factor for the transformation it represents.\n",
      "\n",
      "8. **Eigenvalues and Eigenvectors**: An eigenvector is a vector that only gets scaled (not changed in direction) when a linear transformation is applied to it. The scale factor is the eigenvalue. They are important in physics, engineering, and computer science, where systems often have natural modes of vibration or principal components.\n",
      "\n",
      "9. **Inner Product**: The inner product is a generalization of the dot product and provides a way of defining the angle between two vectors and a concept of length. It is a crucial concept for defining orthogonality in vector spaces.\n",
      "\n",
      "10. **Orthogonality and Orthogonal Complement**: Two vectors are orthogonal if their inner product is zero; this generalizes the concept of perpendicular vectors. The orthogonal complement of a subspace is the set of vectors that are orthogonal to every vector in the subspace.\n",
      "\n",
      "11. **Norm**: The norm of a vector is a measure of its length. In Euclidean space, it's computed by taking the square root of the sum of the squares of its components.\n",
      "\n",
      "12. **Basis and Dimension**: A basis of a vector space is a set of linearly independent vectors that span the full space. The number of vectors in the basis is called the dimension of the vector space.\n",
      "\n",
      "13. **Rank**: The rank of a matrix is the maximum number of linearly independent column vectors in the matrix. It indicates the matrix's \"non-degeneracy\" in terms of its ability to be inverted and to span vector spaces.\n",
      "\n",
      "These are just some of the fundamental concepts in linear algebra, and they provide the tools to navigate and manipulate multidimensional numeric data. Mastery of linear algebra is crucial in many science and engineering disciplines for analyzing complex systems and designing algorithms, particularly within fields like machine learning, computer graphics, and signal processing.\n",
      "\n",
      "# Messages\n",
      "user: I don't like math. What can I do?\n",
      "assistant: If you don't like math, there are a few approaches you can take to handle necessary mathematical tasks, especially considering that as a software developer, you may encounter situations where some level of math is required:\n",
      "\n",
      "1. **Use Computational Tools:**\n",
      "   - Utilize software libraries that abstract the mathematical complexity away from you. For example, if you're working with data analysis or machine learning, libraries like NumPy, pandas (Python), or data.table (R) can do most of the heavy lifting for you.\n",
      "   - Software such as MATLAB, Mathematica, or even Excel can be used to perform complex calculations without manually doing the math.\n",
      "\n",
      "2. **Strengthen Math Skills Gradually:**\n",
      "   - If your job or personal interest requires you to improve your math skills, start with the basics and work your way up at a pace that is comfortable for you.\n",
      "   - Online platforms such as Khan Academy, Coursera, or edX offer free or affordable courses in mathematics that you can take advantage of.\n",
      "\n",
      "3. **Collaborate:**\n",
      "   - Work with others who have a stronger preference for or skills in math. Collaboration can help you learn from them and make the process more enjoyable.\n",
      "   - This also allows for a division of labor; you could focus more on coding, debugging, and design, while they handle the mathematical modeling or analysis.\n",
      "\n",
      "4. **Focus on Interest Areas:**\n",
      "   - Find areas in software development that are less math-intensive, such as web development, user interface design, or certain types of application development.\n",
      "   - Pursue software projects that resonate with your interests and strengths.\n",
      "\n",
      "5. **Change Your Mindset:**\n",
      "   - Understand that many people struggle with math not because they are incapable, but because they have not found the right context or teaching style that works for them. A positive mindset can be crucial in overcoming math anxiety.\n",
      "   - Real-world applications can often provide more motivation and context to learn mathematical concepts than abstract problems.\n",
      "\n",
      "6. **Seek Help:**\n",
      "   - If you are struggling with a specific mathematical concept that you need for a project, don’t hesitate to ask for help. There are forums like Stack Overflow, Reddit's r/learnmath, or dedicated Slack/Discord groups where you can get assistance.\n",
      "\n",
      "7. **Automation and Tools:**\n",
      "   - Use code generators and automated tools that can write boilerplate code or perform tasks that may otherwise involve complex math.\n",
      "   - Write or use existing scripts that automate recurring mathematical computations or tasks within your projects.\n",
      "\n",
      "Remember, not all software development requires in-depth knowledge of mathematics. Many developers excel without a strong math background, focusing instead on other strengths such as logic, problem-solving, design, or an understanding of user experience. Find the niche within software development that plays to your strengths and preferences.\n",
      "\n",
      "# Messages\n",
      "user: I don't like math. What can I do?\n",
      "assistant: If you don't like math, there are a few approaches you can take to handle necessary mathematical tasks, especially considering that as a software developer, you may encounter situations where some level of math is required:\n",
      "\n",
      "1. **Use Computational Tools:**\n",
      "   - Utilize software libraries that abstract the mathematical complexity away from you. For example, if you're working with data analysis or machine learning, libraries like NumPy, pandas (Python), or data.table (R) can do most of the heavy lifting for you.\n",
      "   - Software such as MATLAB, Mathematica, or even Excel can be used to perform complex calculations without manually doing the math.\n",
      "\n",
      "2. **Strengthen Math Skills Gradually:**\n",
      "   - If your job or personal interest requires you to improve your math skills, start with the basics and work your way up at a pace that is comfortable for you.\n",
      "   - Online platforms such as Khan Academy, Coursera, or edX offer free or affordable courses in mathematics that you can take advantage of.\n",
      "\n",
      "3. **Collaborate:**\n",
      "   - Work with others who have a stronger preference for or skills in math. Collaboration can help you learn from them and make the process more enjoyable.\n",
      "   - This also allows for a division of labor; you could focus more on coding, debugging, and design, while they handle the mathematical modeling or analysis.\n",
      "\n",
      "4. **Focus on Interest Areas:**\n",
      "   - Find areas in software development that are less math-intensive, such as web development, user interface design, or certain types of application development.\n",
      "   - Pursue software projects that resonate with your interests and strengths.\n",
      "\n",
      "5. **Change Your Mindset:**\n",
      "   - Understand that many people struggle with math not because they are incapable, but because they have not found the right context or teaching style that works for them. A positive mindset can be crucial in overcoming math anxiety.\n",
      "   - Real-world applications can often provide more motivation and context to learn mathematical concepts than abstract problems.\n",
      "\n",
      "6. **Seek Help:**\n",
      "   - If you are struggling with a specific mathematical concept that you need for a project, don’t hesitate to ask for help. There are forums like Stack Overflow, Reddit's r/learnmath, or dedicated Slack/Discord groups where you can get assistance.\n",
      "\n",
      "7. **Automation and Tools:**\n",
      "   - Use code generators and automated tools that can write boilerplate code or perform tasks that may otherwise involve complex math.\n",
      "   - Write or use existing scripts that automate recurring mathematical computations or tasks within your projects.\n",
      "\n",
      "Remember, not all software development requires in-depth knowledge of mathematics. Many developers excel without a strong math background, focusing instead on other strengths such as logic, problem-solving, design, or an understanding of user experience. Find the niche within software development that plays to your strengths and preferences.\n",
      "user: Thank you!\n",
      "assistant: You're welcome! If you have any more questions or need further assistance, whether it's about developing software, learning resources, or anything else, feel free to ask. Good luck with your endeavors in software development!\n",
      "\n"
     ]
    }
   ],
   "source": [
    "!pip show openai | grep Version\n",
    "!pip install python-dotenv\n",
    "from dotenv import load_dotenv\n",
    "import json\n",
    "from openai import OpenAI\n",
    "import time\n",
    "\n",
    "\n",
    "load_dotenv()\n",
    "\n",
    "#Improve JSON inline display\n",
    "def show_json(obj):\n",
    "    display(json.loads(obj.model_dump_json()))\n",
    "\n",
    "#Set the client\n",
    "client = OpenAI()\n",
    "\n",
    "#Create the assistant\n",
    "assistant = client.beta.assistants.create(\n",
    "    name=\"Math Tutor\",\n",
    "    instructions=\"You are a personal math tutor. Answer questions briefly, in a sentence or less.\",\n",
    "    model=\"gpt-4-1106-preview\",\n",
    ")\n",
    "\n",
    "#Create a thread for the message\n",
    "thread = client.beta.threads.create()\n",
    "\n",
    "\n",
    "def wait_on_run(run, thread):\n",
    "    while run.status == \"queued\" or run.status == \"in_progress\":\n",
    "        run = client.beta.threads.runs.retrieve(\n",
    "            thread_id=thread.id,\n",
    "            run_id=run.id,\n",
    "        )\n",
    "        time.sleep(0.5)\n",
    "    return run\n",
    "\n",
    "\n",
    "MATH_ASSISTANT_ID = assistant.id  # or a hard-coded ID like \"asst-...\"\n",
    "\n",
    "\n",
    "\n",
    "def submit_message(assistant_id, thread, user_message):\n",
    "    client.beta.threads.messages.create(\n",
    "        thread_id=thread.id, role=\"user\", content=user_message\n",
    "    )\n",
    "    return client.beta.threads.runs.create(\n",
    "        thread_id=thread.id,\n",
    "        assistant_id=assistant_id,\n",
    "    )\n",
    "\n",
    "\n",
    "def get_response(thread):\n",
    "    return client.beta.threads.messages.list(thread_id=thread.id, order=\"asc\")\n",
    "\n",
    "def create_thread_and_run(user_input):\n",
    "    thread = client.beta.threads.create()\n",
    "    run = submit_message(MATH_ASSISTANT_ID, thread, user_input)\n",
    "    return thread, run\n",
    "\n",
    "\n",
    "# Emulating concurrent user requests\n",
    "thread1, run1 = create_thread_and_run(\n",
    "    \"I need to solve the equation `3x + 11 = 14`. Can you help me?\"\n",
    ")\n",
    "thread2, run2 = create_thread_and_run(\"Could you explain linear algebra to me?\")\n",
    "thread3, run3 = create_thread_and_run(\"I don't like math. What can I do?\")\n",
    "\n",
    "# Now all Runs are executing...\n",
    "\n",
    "# Pretty printing helper\n",
    "def pretty_print(messages):\n",
    "    print(\"# Messages\")\n",
    "    for m in messages:\n",
    "        print(f\"{m.role}: {m.content[0].text.value}\")\n",
    "    print()\n",
    "\n",
    "\n",
    "# Waiting in a loop\n",
    "def wait_on_run(run, thread):\n",
    "    while run.status == \"queued\" or run.status == \"in_progress\":\n",
    "        run = client.beta.threads.runs.retrieve(\n",
    "            thread_id=thread.id,\n",
    "            run_id=run.id,\n",
    "        )\n",
    "        time.sleep(0.5)\n",
    "    return run\n",
    "\n",
    "\n",
    "# Wait for Run 1\n",
    "run1 = wait_on_run(run1, thread1)\n",
    "pretty_print(get_response(thread1))\n",
    "\n",
    "# Wait for Run 2\n",
    "run2 = wait_on_run(run2, thread2)\n",
    "pretty_print(get_response(thread2))\n",
    "\n",
    "# Wait for Run 3\n",
    "run3 = wait_on_run(run3, thread3)\n",
    "pretty_print(get_response(thread3))\n",
    "\n",
    "# Thank our assistant on Thread 3 :)\n",
    "run4 = submit_message(MATH_ASSISTANT_ID, thread3, \"Thank you!\")\n",
    "run4 = wait_on_run(run4, thread3)\n",
    "pretty_print(get_response(thread3))\n"
   ]
  },
  {
   "cell_type": "markdown",
   "metadata": {},
   "source": [
    "Once all Runs are going, we can wait on each and get the responses.\n"
   ]
  },
  {
   "cell_type": "code",
   "execution_count": 41,
   "metadata": {},
   "outputs": [
    {
     "name": "stdout",
     "output_type": "stream",
     "text": [
      "# Messages\n",
      "user: I need to solve the equation `3x + 11 = 14`. Can you help me?\n",
      "assistant: Sure! To solve the equation `3x + 11 = 14` for `x`, you will need to perform some basic algebraic operations. Here's the step-by-step solution:\n",
      "\n",
      "1. Start with the original equation:\n",
      "   \\[ 3x + 11 = 14 \\]\n",
      "\n",
      "2. To isolate the variable `x`, you should first subtract 11 from both sides of the equation to get rid of the constant term on the left side:\n",
      "   \\[ 3x + 11 - 11 = 14 - 11 \\]\n",
      "   which simplifies to:\n",
      "   \\[ 3x = 3 \\]\n",
      "\n",
      "3. Now, to solve for `x`, divide both sides of the equation by 3:\n",
      "   \\[ \\frac{3x}{3} = \\frac{3}{3} \\]\n",
      "   which simplifies to:\n",
      "   \\[ x = 1 \\]\n",
      "\n",
      "So the solution to the equation `3x + 11 = 14` is `x = 1`.\n",
      "\n",
      "# Messages\n",
      "user: Could you explain linear algebra to me?\n",
      "assistant: Certainly! Linear algebra is a branch of mathematics that deals with vectors, vector spaces (also known as linear spaces), linear mappings between spaces (also known as linear transformations), and systems of linear equations. Below, I’ll outline some of the fundamental concepts and terms you'll encounter in linear algebra:\n",
      "\n",
      "1. **Scalars and Vectors:**\n",
      "   - A **scalar** is a single number. It can be real or complex.\n",
      "   - A **vector** is an ordered list of numbers, which can be represented as a point in space. Vectors are often written in column form or row form, with each entry being a scalar.\n",
      "\n",
      "2. **Vector Spaces:**\n",
      "   - A **vector space** or **linear space** is a collection of objects called vectors that can be added together and multiplied (\"scaled\") by numbers, called scalars in this context.\n",
      "\n",
      "3. **Dimensions:**\n",
      "   - The **dimension** of a vector space is the number of vectors in any basis for the space. For example, in 3D space (R^3), the dimension is three because you need three coordinates to describe any point uniquely.\n",
      "\n",
      "4. **Basis and Span:**\n",
      "   - A **basis** for a vector space is a set of linearly independent vectors that can be combined (via scaling and addition) to produce every element in that space.\n",
      "   - The **span** of a set of vectors is the set of all possible linear combinations of the vectors.\n",
      "\n",
      "5. **Linear Independence:**\n",
      "   - Vectors are **linearly independent** if no vector in the set can be written as a combination of the others. If one vector can be written as a combination of others, they are **linearly dependent**.\n",
      "\n",
      "6. **Matrices:**\n",
      "   - A **matrix** is a rectangular array of numbers arranged in rows and columns. Matrices are used to represent linear transformations, to solve systems of linear equations, and to describe coefficients in linear equations.\n",
      "\n",
      "7. **Linear Transformations and Matrices:**\n",
      "   - A **linear transformation** is a function from one vector space to another that respects vector addition and scalar multiplication.\n",
      "   - Matrices can represent linear transformations, with the multiplication of a matrix and a vector yielding another vector.\n",
      "\n",
      "8. **Systems of Linear Equations:**\n",
      "   - A **system of linear equations** is a collection of one or more linear equations involving the same set of variables. Linear algebra provides tools for solving such systems, such as Gaussian elimination or matrix decompositions.\n",
      "\n",
      "9. **Determinants and Inverses:**\n",
      "   - The **determinant** is a scalar value that can be computed from the elements of a square matrix. It tells us things about the matrix, such as whether it's invertible.\n",
      "   - An **inverse** of a matrix exists only if the matrix is square and its determinant is not zero. The inverse matrix, when multiplied by the original, gives the identity matrix.\n",
      "\n",
      "10. **Eigenvalues and Eigenvectors:**\n",
      "   - An **eigenvalue** of a matrix is a scalar such that there is a non-zero vector (eigenvector) for which the product of the matrix and that vector equals the scalar times the vector.\n",
      "\n",
      "These concepts are foundation stones upon which much of linear algebra is built. Linear algebra is widely used in various fields, including physics, computer science, machine learning, and engineering, due to its ability to model and solve complex problems with high-dimensional data.\n",
      "\n",
      "# Messages\n",
      "user: I don't like math. What can I do?\n",
      "assistant: Not everyone has an affinity for math, which is perfectly fine. People have different strengths and interests. However, math is an integral part of many aspects of daily life and various fields of study, so it's advantageous to have at least a basic level of proficiency. Here are some tips on what you can do if you don't like math:\n",
      "\n",
      "1. **Identify the Issue**: Try to understand what it is about math that you don't like. Is it the complexity? Abstract concepts? Or perhaps a past experience? Knowing the issue can help address it.\n",
      "\n",
      "2. **Adopt a Growth Mindset**: Instead of saying \"I don't like math,\" try thinking \"I haven't liked math yet.\" Having a growth mindset means you believe you can improve through effort and practice.\n",
      "\n",
      "3. **Find Real-Life Applications**: Sometimes, seeing how math applies to real-life situations can make it more interesting. Cooking, shopping, budgeting, and home improvements all involve math.\n",
      "\n",
      "4. **Use Math Tools**: Make use of calculators, apps, and software that can help you understand and solve math problems. This might make math a bit more approachable and less stressful.\n",
      "\n",
      "5. **Seek Help**: Don't be afraid to ask for help. Teachers, tutors, friends, or online communities can offer explanations and support.\n",
      "\n",
      "6. **Practice Regularly**: If math is difficult for you, try to practice regularly. Regular short practice sessions are often more effective than long, infrequent ones.\n",
      "\n",
      "7. **Focus on Basic Concepts**: Ensure you have a solid understanding of basic math concepts before moving on to more complex topics.\n",
      "\n",
      "8. **Apply Math to Your Interests**: If you enjoy a particular hobby, try incorporating math into it. For example, if you’re into art, explore the geometry involved in design.\n",
      "\n",
      "9. **Engage with Math in Different Formats**: Sometimes, reading a math textbook isn't exciting. Try videos, interactive websites, or games that teach math concepts.\n",
      "\n",
      "10. **Set Small Goals**: Break down your math learning into smaller, achievable goals. Each small success can build your confidence and make math feel more approachable.\n",
      "\n",
      "11. **Stay Positive**: Try to maintain a positive attitude. Negative thoughts about math can turn into a self-fulfilling prophecy.\n",
      "\n",
      "Remember, it's okay to not be fond of math, but giving yourself the opportunity to approach it with an open mind might change your perception and even improve your skill set over time.\n",
      "\n",
      "# Messages\n",
      "user: I don't like math. What can I do?\n",
      "assistant: Not everyone has an affinity for math, which is perfectly fine. People have different strengths and interests. However, math is an integral part of many aspects of daily life and various fields of study, so it's advantageous to have at least a basic level of proficiency. Here are some tips on what you can do if you don't like math:\n",
      "\n",
      "1. **Identify the Issue**: Try to understand what it is about math that you don't like. Is it the complexity? Abstract concepts? Or perhaps a past experience? Knowing the issue can help address it.\n",
      "\n",
      "2. **Adopt a Growth Mindset**: Instead of saying \"I don't like math,\" try thinking \"I haven't liked math yet.\" Having a growth mindset means you believe you can improve through effort and practice.\n",
      "\n",
      "3. **Find Real-Life Applications**: Sometimes, seeing how math applies to real-life situations can make it more interesting. Cooking, shopping, budgeting, and home improvements all involve math.\n",
      "\n",
      "4. **Use Math Tools**: Make use of calculators, apps, and software that can help you understand and solve math problems. This might make math a bit more approachable and less stressful.\n",
      "\n",
      "5. **Seek Help**: Don't be afraid to ask for help. Teachers, tutors, friends, or online communities can offer explanations and support.\n",
      "\n",
      "6. **Practice Regularly**: If math is difficult for you, try to practice regularly. Regular short practice sessions are often more effective than long, infrequent ones.\n",
      "\n",
      "7. **Focus on Basic Concepts**: Ensure you have a solid understanding of basic math concepts before moving on to more complex topics.\n",
      "\n",
      "8. **Apply Math to Your Interests**: If you enjoy a particular hobby, try incorporating math into it. For example, if you’re into art, explore the geometry involved in design.\n",
      "\n",
      "9. **Engage with Math in Different Formats**: Sometimes, reading a math textbook isn't exciting. Try videos, interactive websites, or games that teach math concepts.\n",
      "\n",
      "10. **Set Small Goals**: Break down your math learning into smaller, achievable goals. Each small success can build your confidence and make math feel more approachable.\n",
      "\n",
      "11. **Stay Positive**: Try to maintain a positive attitude. Negative thoughts about math can turn into a self-fulfilling prophecy.\n",
      "\n",
      "Remember, it's okay to not be fond of math, but giving yourself the opportunity to approach it with an open mind might change your perception and even improve your skill set over time.\n",
      "user: Thank you!\n",
      "assistant: You're welcome! If you have any more questions or need further assistance on any topic, feel free to ask. Good luck with your math journey, and remember that progress at any pace is still progress!\n",
      "\n"
     ]
    }
   ],
   "source": [
    "import time\n",
    "\n",
    "\n"
   ]
  },
  {
   "cell_type": "markdown",
   "metadata": {},
   "source": [
    "Et voilà!\n",
    "\n",
    "You may have noticed that this code is not actually specific to our math Assistant at all... this code will work for any new Assistant you create simply by changing the Assistant ID! That is the power of the Assistants API.\n"
   ]
  },
  {
   "cell_type": "markdown",
   "metadata": {},
   "source": [
    "## Tools\n",
    "\n",
    "A key feature of the Assistants API is the ability to equip our Assistants with Tools, like Code Interpreter, Retrieval, and custom Functions. Let's take a look at each.\n",
    "\n",
    "### Code Interpreter\n",
    "\n",
    "Let's equip our Math Tutor with the [Code Interpreter](https://platform.openai.com/docs/assistants/tools/code-interpreter) tool, which we can do from the Dashboard...\n"
   ]
  },
  {
   "cell_type": "markdown",
   "metadata": {},
   "source": [
    "![Enabling code interpreter](../images/assistants_overview_enable_code_interpreter.png)\n"
   ]
  },
  {
   "cell_type": "markdown",
   "metadata": {},
   "source": [
    "...or the API, using the Assistant ID.\n"
   ]
  },
  {
   "cell_type": "code",
   "execution_count": 15,
   "metadata": {},
   "outputs": [
    {
     "data": {
      "text/plain": [
       "{'id': 'asst_88A2X9jjp2k8I3oGb0u3midP',\n",
       " 'created_at': 1699806531,\n",
       " 'description': None,\n",
       " 'file_ids': [],\n",
       " 'instructions': 'You are a personal math tutor. Answer questions briefly, in a sentence or less.',\n",
       " 'metadata': {},\n",
       " 'model': 'gpt-4-1106-preview',\n",
       " 'name': 'Math Tutor',\n",
       " 'object': 'assistant',\n",
       " 'tools': [{'type': 'code_interpreter'}]}"
      ]
     },
     "metadata": {},
     "output_type": "display_data"
    }
   ],
   "source": [
    "assistant = client.beta.assistants.update(\n",
    "    MATH_ASSISTANT_ID,\n",
    "    tools=[{\"type\": \"code_interpreter\"}],\n",
    ")\n",
    "show_json(assistant)"
   ]
  },
  {
   "cell_type": "markdown",
   "metadata": {},
   "source": [
    "Now, let's ask the Assistant to use its new tool.\n"
   ]
  },
  {
   "cell_type": "code",
   "execution_count": 16,
   "metadata": {},
   "outputs": [
    {
     "name": "stdout",
     "output_type": "stream",
     "text": [
      "# Messages\n",
      "user: Generate the first 20 fibbonaci numbers with code.\n",
      "assistant: The first 20 Fibonacci numbers are:\n",
      "\n",
      "0, 1, 1, 2, 3, 5, 8, 13, 21, 34, 55, 89, 144, 233, 377, 610, 987, 1597, 2584, 4181\n",
      "\n"
     ]
    }
   ],
   "source": [
    "thread, run = create_thread_and_run(\n",
    "    \"Generate the first 20 fibbonaci numbers with code.\"\n",
    ")\n",
    "run = wait_on_run(run, thread)\n",
    "pretty_print(get_response(thread))"
   ]
  },
  {
   "cell_type": "markdown",
   "metadata": {},
   "source": [
    "And that's it! The Assistant used Code Interpreter in the background, and gave us a final response.\n",
    "\n",
    "For some use cases this may be enough – however, if we want more details on what precisely an Assistant is doing we can take a look at a Run's Steps.\n",
    "\n",
    "### Steps\n"
   ]
  },
  {
   "cell_type": "markdown",
   "metadata": {},
   "source": [
    "A Run is composed of one or more Steps. Like a Run, each Step has a `status` that you can query. This is useful for surfacing the progress of a Step to a user (e.g. a spinner while the Assistant is writing code or performing retrieval).\n"
   ]
  },
  {
   "cell_type": "code",
   "execution_count": 17,
   "metadata": {},
   "outputs": [],
   "source": [
    "run_steps = client.beta.threads.runs.steps.list(\n",
    "    thread_id=thread.id, run_id=run.id, order=\"asc\"\n",
    ")"
   ]
  },
  {
   "cell_type": "markdown",
   "metadata": {},
   "source": [
    "Let's take a look at each Step's `step_details`.\n"
   ]
  },
  {
   "cell_type": "code",
   "execution_count": 18,
   "metadata": {},
   "outputs": [
    {
     "data": {
      "text/plain": [
       "{'tool_calls': [{'id': 'call_8pJ3DAGteGvYOTa2jNuNYAFd',\n",
       "   'code_interpreter': {'input': 'def fibonacci(n):\\n    fib_sequence = [0, 1]\\n    while len(fib_sequence) < n:\\n        fib_sequence.append(fib_sequence[-1] + fib_sequence[-2])\\n    return fib_sequence[:n]\\n\\nfirst_20_fibonacci_numbers = fibonacci(20)\\nfirst_20_fibonacci_numbers',\n",
       "    'outputs': [{'logs': '[0,\\n 1,\\n 1,\\n 2,\\n 3,\\n 5,\\n 8,\\n 13,\\n 21,\\n 34,\\n 55,\\n 89,\\n 144,\\n 233,\\n 377,\\n 610,\\n 987,\\n 1597,\\n 2584,\\n 4181]',\n",
       "      'type': 'logs'}]},\n",
       "   'type': 'code_interpreter'}],\n",
       " 'type': 'tool_calls'}"
      ]
     },
     "metadata": {},
     "output_type": "display_data"
    },
    {
     "name": "stdout",
     "output_type": "stream",
     "text": [
      "null\n"
     ]
    },
    {
     "data": {
      "text/plain": [
       "{'message_creation': {'message_id': 'msg_WRlOzAVgYVMk2z3XEAnrDyVq'},\n",
       " 'type': 'message_creation'}"
      ]
     },
     "metadata": {},
     "output_type": "display_data"
    },
    {
     "name": "stdout",
     "output_type": "stream",
     "text": [
      "null\n"
     ]
    }
   ],
   "source": [
    "for step in run_steps.data:\n",
    "    step_details = step.step_details\n",
    "    print(json.dumps(show_json(step_details), indent=4))"
   ]
  },
  {
   "cell_type": "markdown",
   "metadata": {},
   "source": [
    "We can see the `step_details` for two Steps:\n",
    "\n",
    "1. `tool_calls` (plural, since it could be more than one in a single Step)\n",
    "2. `message_creation`\n",
    "\n",
    "The first Step is a `tool_calls`, specifically using the `code_interpreter` which contains:\n",
    "\n",
    "- `input`, which was the Python code generated before the tool was called, and\n",
    "- `output`, which was the result of running the Code Interpreter.\n",
    "\n",
    "The second Step is a `message_creation`, which contains the `message` that was added to the Thread to communicate the results to the user.\n"
   ]
  },
  {
   "cell_type": "markdown",
   "metadata": {},
   "source": [
    "### Retrieval\n",
    "\n",
    "Another powerful tool in the Assistants API is [Retrieval](https://platform.openai.com/docs/assistants/tools/knowledge-retrieval): the ability to upload files that the Assistant will use as a knowledge base when answering questions. This can also be enabled from the Dashboard or the API, where we can upload files we want to be used.\n"
   ]
  },
  {
   "cell_type": "markdown",
   "metadata": {},
   "source": [
    "![Enabling retrieval](../images/assistants_overview_enable_retrieval.png)\n"
   ]
  },
  {
   "cell_type": "code",
   "execution_count": 19,
   "metadata": {},
   "outputs": [
    {
     "data": {
      "text/plain": [
       "{'id': 'asst_88A2X9jjp2k8I3oGb0u3midP',\n",
       " 'created_at': 1699806531,\n",
       " 'description': None,\n",
       " 'file_ids': ['file-QA9voOqicns5LOqmHkxNbiNh'],\n",
       " 'instructions': 'You are a personal math tutor. Answer questions briefly, in a sentence or less.',\n",
       " 'metadata': {},\n",
       " 'model': 'gpt-4-1106-preview',\n",
       " 'name': 'Math Tutor',\n",
       " 'object': 'assistant',\n",
       " 'tools': [{'type': 'code_interpreter'}, {'type': 'retrieval'}]}"
      ]
     },
     "metadata": {},
     "output_type": "display_data"
    }
   ],
   "source": [
    "# Upload the file\n",
    "file = client.files.create(\n",
    "    file=open(\n",
    "        \"data/language_models_are_unsupervised_multitask_learners.pdf\",\n",
    "        \"rb\",\n",
    "    ),\n",
    "    purpose=\"assistants\",\n",
    ")\n",
    "# Update Assistant\n",
    "assistant = client.beta.assistants.update(\n",
    "    MATH_ASSISTANT_ID,\n",
    "    tools=[{\"type\": \"code_interpreter\"}, {\"type\": \"retrieval\"}],\n",
    "    file_ids=[file.id],\n",
    ")\n",
    "show_json(assistant)"
   ]
  },
  {
   "cell_type": "code",
   "execution_count": 20,
   "metadata": {},
   "outputs": [
    {
     "name": "stdout",
     "output_type": "stream",
     "text": [
      "# Messages\n",
      "user: What are some cool math concepts behind this ML paper pdf? Explain in two sentences.\n",
      "assistant: The paper discusses principles of unsupervised learning in language models, connecting the unsupervised and supervised objectives, suggesting that optimizing unsupervised learning can lead to effective multitask learning despite slower learning rates than supervised methods【9†source】. It covers advanced techniques such as Byte Pair Encoding (BPE) for efficient vocabulary management and interpolation between frequent and infrequent sequences, and Transformer-based architecture modifications to improve performance and generalization【10†source】【11†source】.\n",
      "\n"
     ]
    }
   ],
   "source": [
    "thread, run = create_thread_and_run(\n",
    "    \"What are some cool math concepts behind this ML paper pdf? Explain in two sentences.\"\n",
    ")\n",
    "run = wait_on_run(run, thread)\n",
    "pretty_print(get_response(thread))"
   ]
  },
  {
   "cell_type": "markdown",
   "metadata": {},
   "source": [
    "> **Note**\n",
    "> There are more intricacies in Retrieval, like [Annotations](https://platform.openai.com/docs/assistants/how-it-works/managing-threads-and-messages), which may be covered in another cookbook.\n"
   ]
  },
  {
   "cell_type": "markdown",
   "metadata": {},
   "source": [
    "### Functions\n",
    "\n",
    "As a final powerful tool for your Assistant, you can specify custom [Functions](https://platform.openai.com/docs/assistants/tools/function-calling) (much like the [Function Calling](https://platform.openai.com/docs/guides/function-calling) in the Chat Completions API). During a Run, the Assistant can then indicate it wants to call one or more functions you specified. You are then responsible for calling the Function, and providing the output back to the Assistant.\n",
    "\n",
    "Let's take a look at an example by defining a `display_quiz()` Function for our Math Tutor.\n",
    "\n",
    "This function will take a `title` and an array of `question`s, display the quiz, and get input from the user for each:\n",
    "\n",
    "- `title`\n",
    "- `questions`\n",
    "  - `question_text`\n",
    "  - `question_type`: [`MULTIPLE_CHOICE`, `FREE_RESPONSE`]\n",
    "  - `choices`: [\"choice 1\", \"choice 2\", ...]\n",
    "\n",
    "Unfortunately I don't know how to get user input within a Python Notebook, so I'll be mocking out responses with `get_mock_response...`. This is where you'd get the user's actual input.\n"
   ]
  },
  {
   "cell_type": "code",
   "execution_count": 21,
   "metadata": {},
   "outputs": [],
   "source": [
    "def get_mock_response_from_user_multiple_choice():\n",
    "    return \"a\"\n",
    "\n",
    "\n",
    "def get_mock_response_from_user_free_response():\n",
    "    return \"I don't know.\"\n",
    "\n",
    "\n",
    "def display_quiz(title, questions):\n",
    "    print(\"Quiz:\", title)\n",
    "    print()\n",
    "    responses = []\n",
    "\n",
    "    for q in questions:\n",
    "        print(q[\"question_text\"])\n",
    "        response = \"\"\n",
    "\n",
    "        # If multiple choice, print options\n",
    "        if q[\"question_type\"] == \"MULTIPLE_CHOICE\":\n",
    "            for i, choice in enumerate(q[\"choices\"]):\n",
    "                print(f\"{i}. {choice}\")\n",
    "            response = get_mock_response_from_user_multiple_choice()\n",
    "\n",
    "        # Otherwise, just get response\n",
    "        elif q[\"question_type\"] == \"FREE_RESPONSE\":\n",
    "            response = get_mock_response_from_user_free_response()\n",
    "\n",
    "        responses.append(response)\n",
    "        print()\n",
    "\n",
    "    return responses"
   ]
  },
  {
   "cell_type": "markdown",
   "metadata": {},
   "source": [
    "Here's what a sample quiz would look like:\n"
   ]
  },
  {
   "cell_type": "code",
   "execution_count": 22,
   "metadata": {},
   "outputs": [
    {
     "name": "stdout",
     "output_type": "stream",
     "text": [
      "Quiz: Sample Quiz\n",
      "\n",
      "What is your name?\n",
      "\n",
      "What is your favorite color?\n",
      "0. Red\n",
      "1. Blue\n",
      "2. Green\n",
      "3. Yellow\n",
      "\n",
      "Responses: [\"I don't know.\", 'a']\n"
     ]
    }
   ],
   "source": [
    "responses = display_quiz(\n",
    "    \"Sample Quiz\",\n",
    "    [\n",
    "        {\"question_text\": \"What is your name?\", \"question_type\": \"FREE_RESPONSE\"},\n",
    "        {\n",
    "            \"question_text\": \"What is your favorite color?\",\n",
    "            \"question_type\": \"MULTIPLE_CHOICE\",\n",
    "            \"choices\": [\"Red\", \"Blue\", \"Green\", \"Yellow\"],\n",
    "        },\n",
    "    ],\n",
    ")\n",
    "print(\"Responses:\", responses)"
   ]
  },
  {
   "cell_type": "markdown",
   "metadata": {},
   "source": [
    "Now, let's define the interface of this function in JSON format, so our Assistant can call it:\n"
   ]
  },
  {
   "cell_type": "code",
   "execution_count": 23,
   "metadata": {},
   "outputs": [],
   "source": [
    "function_json = {\n",
    "    \"name\": \"display_quiz\",\n",
    "    \"description\": \"Displays a quiz to the student, and returns the student's response. A single quiz can have multiple questions.\",\n",
    "    \"parameters\": {\n",
    "        \"type\": \"object\",\n",
    "        \"properties\": {\n",
    "            \"title\": {\"type\": \"string\"},\n",
    "            \"questions\": {\n",
    "                \"type\": \"array\",\n",
    "                \"description\": \"An array of questions, each with a title and potentially options (if multiple choice).\",\n",
    "                \"items\": {\n",
    "                    \"type\": \"object\",\n",
    "                    \"properties\": {\n",
    "                        \"question_text\": {\"type\": \"string\"},\n",
    "                        \"question_type\": {\n",
    "                            \"type\": \"string\",\n",
    "                            \"enum\": [\"MULTIPLE_CHOICE\", \"FREE_RESPONSE\"],\n",
    "                        },\n",
    "                        \"choices\": {\"type\": \"array\", \"items\": {\"type\": \"string\"}},\n",
    "                    },\n",
    "                    \"required\": [\"question_text\"],\n",
    "                },\n",
    "            },\n",
    "        },\n",
    "        \"required\": [\"title\", \"questions\"],\n",
    "    },\n",
    "}"
   ]
  },
  {
   "cell_type": "markdown",
   "metadata": {},
   "source": [
    "Once again, let's update out Assistant either through the Dashboard or the API.\n"
   ]
  },
  {
   "cell_type": "markdown",
   "metadata": {},
   "source": [
    "<img width=\"1728\" alt=\"Enabling custom function\" src=\"../images/assistants_overview_enable_function.png\">\n"
   ]
  },
  {
   "cell_type": "markdown",
   "metadata": {},
   "source": [
    "> **Note**\n",
    "> Pasting the function JSON into the Dashboard was a bit finicky due to indentation, etc. I just asked ChatGPT to format my function the same as one of the examples on the Dashboard :).\n"
   ]
  },
  {
   "cell_type": "code",
   "execution_count": 24,
   "metadata": {},
   "outputs": [
    {
     "data": {
      "text/plain": [
       "{'id': 'asst_88A2X9jjp2k8I3oGb0u3midP',\n",
       " 'created_at': 1699806531,\n",
       " 'description': None,\n",
       " 'file_ids': ['file-QA9voOqicns5LOqmHkxNbiNh'],\n",
       " 'instructions': 'You are a personal math tutor. Answer questions briefly, in a sentence or less.',\n",
       " 'metadata': {},\n",
       " 'model': 'gpt-4-1106-preview',\n",
       " 'name': 'Math Tutor',\n",
       " 'object': 'assistant',\n",
       " 'tools': [{'type': 'code_interpreter'},\n",
       "  {'type': 'retrieval'},\n",
       "  {'function': {'name': 'display_quiz',\n",
       "    'parameters': {'type': 'object',\n",
       "     'properties': {'title': {'type': 'string'},\n",
       "      'questions': {'type': 'array',\n",
       "       'description': 'An array of questions, each with a title and potentially options (if multiple choice).',\n",
       "       'items': {'type': 'object',\n",
       "        'properties': {'question_text': {'type': 'string'},\n",
       "         'question_type': {'type': 'string',\n",
       "          'enum': ['MULTIPLE_CHOICE', 'FREE_RESPONSE']},\n",
       "         'choices': {'type': 'array', 'items': {'type': 'string'}}},\n",
       "        'required': ['question_text']}}},\n",
       "     'required': ['title', 'questions']},\n",
       "    'description': \"Displays a quiz to the student, and returns the student's response. A single quiz can have multiple questions.\"},\n",
       "   'type': 'function'}]}"
      ]
     },
     "metadata": {},
     "output_type": "display_data"
    }
   ],
   "source": [
    "assistant = client.beta.assistants.update(\n",
    "    MATH_ASSISTANT_ID,\n",
    "    tools=[\n",
    "        {\"type\": \"code_interpreter\"},\n",
    "        {\"type\": \"retrieval\"},\n",
    "        {\"type\": \"function\", \"function\": function_json},\n",
    "    ],\n",
    ")\n",
    "show_json(assistant)"
   ]
  },
  {
   "cell_type": "markdown",
   "metadata": {},
   "source": [
    "And now, we ask for a quiz.\n"
   ]
  },
  {
   "cell_type": "code",
   "execution_count": 25,
   "metadata": {},
   "outputs": [
    {
     "data": {
      "text/plain": [
       "'requires_action'"
      ]
     },
     "execution_count": 25,
     "metadata": {},
     "output_type": "execute_result"
    }
   ],
   "source": [
    "thread, run = create_thread_and_run(\n",
    "    \"Make a quiz with 2 questions: One open ended, one multiple choice. Then, give me feedback for the responses.\"\n",
    ")\n",
    "run = wait_on_run(run, thread)\n",
    "run.status"
   ]
  },
  {
   "cell_type": "markdown",
   "metadata": {},
   "source": [
    "Now, however, when we check the Run's `status` we see `requires_action`! Let's take a closer.\n"
   ]
  },
  {
   "cell_type": "code",
   "execution_count": 26,
   "metadata": {},
   "outputs": [
    {
     "data": {
      "text/plain": [
       "{'id': 'run_IFIYH0qiKBcyYy2v1blN2o0A',\n",
       " 'assistant_id': 'asst_88A2X9jjp2k8I3oGb0u3midP',\n",
       " 'cancelled_at': None,\n",
       " 'completed_at': None,\n",
       " 'created_at': 1699806575,\n",
       " 'expires_at': 1699807175,\n",
       " 'failed_at': None,\n",
       " 'file_ids': ['file-QA9voOqicns5LOqmHkxNbiNh'],\n",
       " 'instructions': 'You are a personal math tutor. Answer questions briefly, in a sentence or less.',\n",
       " 'last_error': None,\n",
       " 'metadata': {},\n",
       " 'model': 'gpt-4-1106-preview',\n",
       " 'object': 'thread.run',\n",
       " 'required_action': {'submit_tool_outputs': {'tool_calls': [{'id': 'call_5FeGPluqHQu02JjBN8PG4Wrx',\n",
       "     'function': {'arguments': '{\\n  \"title\": \"Math Basics Quiz\",\\n  \"questions\": [\\n    {\\n      \"question_text\": \"Explain the difference between a rational number and an irrational number.\",\\n      \"question_type\": \"FREE_RESPONSE\"\\n    },\\n    {\\n      \"question_text\": \"Which of the following numbers is an example of an irrational number?\",\\n      \"question_type\": \"MULTIPLE_CHOICE\",\\n      \"choices\": [\\n        \"2/3\",\\n        \"3.1415926535...\",\\n        \"0.333...\",\\n        \"√4\"\\n      ]\\n    }\\n  ]\\n}',\n",
       "      'name': 'display_quiz'},\n",
       "     'type': 'function'}]},\n",
       "  'type': 'submit_tool_outputs'},\n",
       " 'started_at': 1699806575,\n",
       " 'status': 'requires_action',\n",
       " 'thread_id': 'thread_Cc1Gc4kZzFFsiPUzRKPiEZGb',\n",
       " 'tools': [{'type': 'code_interpreter'},\n",
       "  {'type': 'retrieval'},\n",
       "  {'function': {'name': 'display_quiz',\n",
       "    'parameters': {'type': 'object',\n",
       "     'properties': {'title': {'type': 'string'},\n",
       "      'questions': {'type': 'array',\n",
       "       'description': 'An array of questions, each with a title and potentially options (if multiple choice).',\n",
       "       'items': {'type': 'object',\n",
       "        'properties': {'question_text': {'type': 'string'},\n",
       "         'question_type': {'type': 'string',\n",
       "          'enum': ['MULTIPLE_CHOICE', 'FREE_RESPONSE']},\n",
       "         'choices': {'type': 'array', 'items': {'type': 'string'}}},\n",
       "        'required': ['question_text']}}},\n",
       "     'required': ['title', 'questions']},\n",
       "    'description': \"Displays a quiz to the student, and returns the student's response. A single quiz can have multiple questions.\"},\n",
       "   'type': 'function'}]}"
      ]
     },
     "metadata": {},
     "output_type": "display_data"
    }
   ],
   "source": [
    "show_json(run)"
   ]
  },
  {
   "cell_type": "markdown",
   "metadata": {},
   "source": [
    "The `required_action` field indicates a Tool is waiting for us to run it and submit its output back to the Assistant. Specifically, the `display_quiz` function! Let's start by parsing the `name` and `arguments`.\n",
    "\n",
    "> **Note**\n",
    "> While in this case we know there is only one Tool call, in practice the Assistant may choose to call multiple tools.\n"
   ]
  },
  {
   "cell_type": "code",
   "execution_count": 27,
   "metadata": {},
   "outputs": [
    {
     "name": "stdout",
     "output_type": "stream",
     "text": [
      "Function Name: display_quiz\n",
      "Function Arguments:\n"
     ]
    },
    {
     "data": {
      "text/plain": [
       "{'title': 'Math Basics Quiz',\n",
       " 'questions': [{'question_text': 'Explain the difference between a rational number and an irrational number.',\n",
       "   'question_type': 'FREE_RESPONSE'},\n",
       "  {'question_text': 'Which of the following numbers is an example of an irrational number?',\n",
       "   'question_type': 'MULTIPLE_CHOICE',\n",
       "   'choices': ['2/3', '3.1415926535...', '0.333...', '√4']}]}"
      ]
     },
     "execution_count": 27,
     "metadata": {},
     "output_type": "execute_result"
    }
   ],
   "source": [
    "# Extract single tool call\n",
    "tool_call = run.required_action.submit_tool_outputs.tool_calls[0]\n",
    "name = tool_call.function.name\n",
    "arguments = json.loads(tool_call.function.arguments)\n",
    "\n",
    "print(\"Function Name:\", name)\n",
    "print(\"Function Arguments:\")\n",
    "arguments"
   ]
  },
  {
   "cell_type": "markdown",
   "metadata": {},
   "source": [
    "Now let's actually call our `display_quiz` function with the arguments provided by the Assistant:\n"
   ]
  },
  {
   "cell_type": "code",
   "execution_count": 28,
   "metadata": {},
   "outputs": [
    {
     "name": "stdout",
     "output_type": "stream",
     "text": [
      "Quiz: Math Basics Quiz\n",
      "\n",
      "Explain the difference between a rational number and an irrational number.\n",
      "\n",
      "Which of the following numbers is an example of an irrational number?\n",
      "0. 2/3\n",
      "1. 3.1415926535...\n",
      "2. 0.333...\n",
      "3. √4\n",
      "\n",
      "Responses: [\"I don't know.\", 'a']\n"
     ]
    }
   ],
   "source": [
    "responses = display_quiz(arguments[\"title\"], arguments[\"questions\"])\n",
    "print(\"Responses:\", responses)"
   ]
  },
  {
   "cell_type": "markdown",
   "metadata": {},
   "source": [
    "Great! (Remember these responses are the one's we mocked earlier. In reality, we'd be getting input from the back from this function call.)\n",
    "\n",
    "Now that we have our responses, let's submit them back to the Assistant. We'll need the `tool_call` ID, found in the `tool_call` we parsed out earlier. We'll also need to encode our `list`of responses into a `str`.\n"
   ]
  },
  {
   "cell_type": "code",
   "execution_count": 29,
   "metadata": {},
   "outputs": [
    {
     "data": {
      "text/plain": [
       "{'id': 'run_IFIYH0qiKBcyYy2v1blN2o0A',\n",
       " 'assistant_id': 'asst_88A2X9jjp2k8I3oGb0u3midP',\n",
       " 'cancelled_at': None,\n",
       " 'completed_at': None,\n",
       " 'created_at': 1699806575,\n",
       " 'expires_at': 1699807175,\n",
       " 'failed_at': None,\n",
       " 'file_ids': ['file-QA9voOqicns5LOqmHkxNbiNh'],\n",
       " 'instructions': 'You are a personal math tutor. Answer questions briefly, in a sentence or less.',\n",
       " 'last_error': None,\n",
       " 'metadata': {},\n",
       " 'model': 'gpt-4-1106-preview',\n",
       " 'object': 'thread.run',\n",
       " 'required_action': None,\n",
       " 'started_at': 1699806575,\n",
       " 'status': 'queued',\n",
       " 'thread_id': 'thread_Cc1Gc4kZzFFsiPUzRKPiEZGb',\n",
       " 'tools': [{'type': 'code_interpreter'},\n",
       "  {'type': 'retrieval'},\n",
       "  {'function': {'name': 'display_quiz',\n",
       "    'parameters': {'type': 'object',\n",
       "     'properties': {'title': {'type': 'string'},\n",
       "      'questions': {'type': 'array',\n",
       "       'description': 'An array of questions, each with a title and potentially options (if multiple choice).',\n",
       "       'items': {'type': 'object',\n",
       "        'properties': {'question_text': {'type': 'string'},\n",
       "         'question_type': {'type': 'string',\n",
       "          'enum': ['MULTIPLE_CHOICE', 'FREE_RESPONSE']},\n",
       "         'choices': {'type': 'array', 'items': {'type': 'string'}}},\n",
       "        'required': ['question_text']}}},\n",
       "     'required': ['title', 'questions']},\n",
       "    'description': \"Displays a quiz to the student, and returns the student's response. A single quiz can have multiple questions.\"},\n",
       "   'type': 'function'}]}"
      ]
     },
     "metadata": {},
     "output_type": "display_data"
    }
   ],
   "source": [
    "run = client.beta.threads.runs.submit_tool_outputs(\n",
    "    thread_id=thread.id,\n",
    "    run_id=run.id,\n",
    "    tool_outputs=[\n",
    "        {\n",
    "            \"tool_call_id\": tool_call.id,\n",
    "            \"output\": json.dumps(responses),\n",
    "        }\n",
    "    ],\n",
    ")\n",
    "show_json(run)"
   ]
  },
  {
   "cell_type": "markdown",
   "metadata": {},
   "source": [
    "We can now wait for the Run to complete once again, and check our Thread!\n"
   ]
  },
  {
   "cell_type": "code",
   "execution_count": 30,
   "metadata": {},
   "outputs": [
    {
     "name": "stdout",
     "output_type": "stream",
     "text": [
      "# Messages\n",
      "user: Make a quiz with 2 questions: One open ended, one multiple choice. Then, give me feedback for the responses.\n",
      "assistant: Here is the feedback for the responses:\n",
      "\n",
      "1. For the open-ended question, \"I don't know\" indicates that you might need a review. A rational number is any number that can be expressed as the quotient or fraction \\(\\frac{p}{q}\\) of two integers, with the denominator \\(q\\) not equal to zero. An irrational number is a number that cannot be expressed as a simple fraction - its decimal expansion is non-repeating and non-terminating. For example, \\(\\sqrt{2}\\) and \\(\\pi\\) are irrational.\n",
      "\n",
      "2. For the multiple choice question, the number you chose, \\(2/3\\), is actually a rational number because it can be expressed as a fraction. The correct answer is \\(3.1415926535...\\), which is a representation of the number \\(\\pi\\), a well-known irrational number.\n",
      "\n",
      "Remember, irrational numbers cannot be expressed as simple fractions and have non-repeating, non-terminating decimal representations!\n",
      "\n"
     ]
    }
   ],
   "source": [
    "run = wait_on_run(run, thread)\n",
    "pretty_print(get_response(thread))"
   ]
  },
  {
   "cell_type": "markdown",
   "metadata": {},
   "source": [
    "Woohoo 🎉\n"
   ]
  },
  {
   "cell_type": "markdown",
   "metadata": {},
   "source": [
    "## Conclusion\n",
    "\n",
    "We covered a lot of ground in this notebook, give yourself a high-five! Hopefully you should now have a strong foundation to build powerful, stateful experiences with tools like Code Interpreter, Retrieval, and Functions!\n",
    "\n",
    "There's a few sections we didn't cover for the sake of brevity, so here's a few resources to explore further:\n",
    "\n",
    "- [Annotations](https://platform.openai.com/docs/assistants/how-it-works/managing-threads-and-messages): parsing file citations\n",
    "- [Files](https://platform.openai.com/docs/api-reference/assistants/file-object): Thread scoped vs Assistant scoped\n",
    "- [Parallel Function Calls](https://platform.openai.com/docs/guides/function-calling/parallel-function-calling): calling multiple tools in a single Step\n",
    "- Multi-Assistant Thread Runs: single Thread with Messages from multiple Assistants\n",
    "- Streaming: coming soon!\n",
    "\n",
    "Now go off and build something ama[zing](https://www.youtube.com/watch?v=xvFZjo5PgG0&pp=ygUQcmljayByb2xsIG5vIGFkcw%3D%3D)!\n"
   ]
  }
 ],
 "metadata": {
  "kernelspec": {
   "display_name": "openai",
   "language": "python",
   "name": "python3"
  },
  "language_info": {
   "codemirror_mode": {
    "name": "ipython",
    "version": 3
   },
   "file_extension": ".py",
   "mimetype": "text/x-python",
   "name": "python",
   "nbconvert_exporter": "python",
   "pygments_lexer": "ipython3",
   "version": "3.10.8"
  }
 },
 "nbformat": 4,
 "nbformat_minor": 2
}
